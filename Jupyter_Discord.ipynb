{
 "cells": [
  {
   "cell_type": "code",
   "execution_count": null,
   "metadata": {},
   "outputs": [],
   "source": []
  },
  {
   "cell_type": "markdown",
   "metadata": {},
   "source": [
    "elemento de lsita"
   ]
  },
  {
   "cell_type": "code",
   "execution_count": 10,
   "metadata": {},
   "outputs": [
    {
     "ename": "SyntaxError",
     "evalue": "invalid syntax (1210913536.py, line 18)",
     "output_type": "error",
     "traceback": [
      "\u001b[1;36m  Cell \u001b[1;32mIn[10], line 18\u001b[1;36m\u001b[0m\n\u001b[1;33m    print (numeros_primos[[0:3]])\u001b[0m\n\u001b[1;37m                            ^\u001b[0m\n\u001b[1;31mSyntaxError\u001b[0m\u001b[1;31m:\u001b[0m invalid syntax\n"
     ]
    }
   ],
   "source": [
    "def es_primo(numero):\n",
    "    if numero <= 1:\n",
    "        return False\n",
    "    for i in range(2, int(numero**0.5) + 1):\n",
    "        if numero % i == 0:\n",
    "            return False\n",
    "    return True\n",
    "\n",
    "numeros_primos = []\n",
    "contador = 2\n",
    "while len(numeros_primos) < 10:\n",
    "    if es_primo(contador):\n",
    "        numeros_primos.append(contador)\n",
    "    contador += 1\n",
    "\n",
    "print(\"Los primeros 10 números primos son:\", numeros_primos)\n",
    "print()\n",
    "print (numeros_primos[[0:3]])\n",
    "\n",
    "\n"
   ]
  },
  {
   "cell_type": "code",
   "execution_count": 18,
   "metadata": {},
   "outputs": [
    {
     "name": "stdout",
     "output_type": "stream",
     "text": [
      "3\n"
     ]
    }
   ],
   "source": [
    "lista_prueba = [1,2,3]\n",
    "lista_2 = [lista_prueba,4,5]\n",
    "print(lista_2[0][2][3][1])\n",
    "\n",
    "lista_prueba\n",
    "\n"
   ]
  },
  {
   "cell_type": "code",
   "execution_count": 32,
   "metadata": {},
   "outputs": [
    {
     "name": "stdout",
     "output_type": "stream",
     "text": [
      "1.6666666666666667\n",
      "1.66666666666666671\n",
      "(1, 'PYTHON', 5.3)\n"
     ]
    },
    {
     "data": {
      "text/plain": [
       "float"
      ]
     },
     "execution_count": 32,
     "metadata": {},
     "output_type": "execute_result"
    }
   ],
   "source": [
    "entero = 5  #int\n",
    "entero /= 3 # entero = entero / 3   #float\n",
    "entero = str(entero)    #str\n",
    "type(entero)\n",
    "print(entero)\n",
    "entero += \"1\"  \n",
    "print(entero)\n",
    "\n",
    "palabra = \"CASA\"\n",
    "LISTA_TIPO = (1, \"PYTHON\", 5.3)\n",
    "print (LISTA_TIPO)\n",
    "\n",
    "type(LISTA_TIPO[0])\n",
    "type(LISTA_TIPO[2])"
   ]
  },
  {
   "cell_type": "code",
   "execution_count": 41,
   "metadata": {},
   "outputs": [
    {
     "name": "stdout",
     "output_type": "stream",
     "text": [
      "Array 1D:\n",
      "[1 2 3 4 5]\n",
      "\n",
      "Array 2D:\n",
      "[[1 2 3]\n",
      " [4 5 6]\n",
      " [7 8 9]]\n",
      "\n",
      "Suma total de elementos en el array 1D: 15\n",
      "Media de elementos en el array 1D: 3.0\n",
      "\n",
      "Transpuesta del array 2D:\n",
      "[[1 4 7]\n",
      " [2 5 8]\n",
      " [3 6 9]]\n"
     ]
    }
   ],
   "source": [
    "import numpy as np\n",
    "\n",
    "# Crear un array de 1 dimensión\n",
    "arr1d = np.array([1, 2, 3, 4, 5])\n",
    "print(\"Array 1D:\")\n",
    "print(arr1d)\n",
    "\n",
    "# Crear un array de 2 dimensiones\n",
    "arr2d = np.array([[1, 2, 3], [4, 5, 6], [7, 8, 9]])\n",
    "print(\"\\nArray 2D:\")\n",
    "print(arr2d)\n",
    "\n",
    "# Sumar todos los elementos del array\n",
    "suma_total = np.sum(arr1d)\n",
    "print(\"\\nSuma total de elementos en el array 1D:\", suma_total)\n",
    "\n",
    "# Calcular la media de los elementos del array\n",
    "media = np.mean(arr1d)\n",
    "print(\"Media de elementos en el array 1D:\", media)\n",
    "\n",
    "# Calcular la transpuesta del array 2D\n",
    "transpuesta = np.transpose(arr2d)\n",
    "print(\"\\nTranspuesta del array 2D:\")\n",
    "print(transpuesta)\n"
   ]
  },
  {
   "cell_type": "code",
   "execution_count": 39,
   "metadata": {},
   "outputs": [
    {
     "name": "stdout",
     "output_type": "stream",
     "text": [
      "Variable         Type        Data/Info\n",
      "--------------------------------------\n",
      "LISTA_TIPO       tuple       n=3\n",
      "arr1d            ndarray     5: 5 elems, type `int32`, 20 bytes\n",
      "arr2d            ndarray     3x3: 9 elems, type `int32`, 36 bytes\n",
      "contador         int         30\n",
      "entero           str         1.66666666666666671\n",
      "es_primo         function    <function es_primo at 0x0000023CFACAA2A0>\n",
      "lista_2          list        n=3\n",
      "lista_prueba     list        n=3\n",
      "media            float64     3.0\n",
      "numeros_primos   list        n=10\n",
      "palabra          str         CASA\n",
      "suma_total       int32       15\n",
      "transpuesta      ndarray     3x3: 9 elems, type `int32`, 36 bytes\n"
     ]
    }
   ],
   "source": [
    "%whos"
   ]
  },
  {
   "cell_type": "code",
   "execution_count": 37,
   "metadata": {},
   "outputs": [],
   "source": [
    "del numpy"
   ]
  },
  {
   "cell_type": "code",
   "execution_count": 55,
   "metadata": {},
   "outputs": [
    {
     "name": "stdout",
     "output_type": "stream",
     "text": [
      "[2 3 4 5 6 7 8]\n"
     ]
    },
    {
     "ename": "NameError",
     "evalue": "name 'vectpr' is not defined",
     "output_type": "error",
     "traceback": [
      "\u001b[1;31m---------------------------------------------------------------------------\u001b[0m",
      "\u001b[1;31mNameError\u001b[0m                                 Traceback (most recent call last)",
      "Cell \u001b[1;32mIn[55], line 3\u001b[0m\n\u001b[0;32m      1\u001b[0m vector \u001b[38;5;241m=\u001b[39m np\u001b[38;5;241m.\u001b[39marange(start \u001b[38;5;241m=\u001b[39m \u001b[38;5;241m2\u001b[39m, stop \u001b[38;5;241m=\u001b[39m \u001b[38;5;241m9\u001b[39m)\n\u001b[0;32m      2\u001b[0m \u001b[38;5;28mprint\u001b[39m (vector)\n\u001b[1;32m----> 3\u001b[0m vector \u001b[38;5;241m=\u001b[39m \u001b[43mvectpr\u001b[49m \u001b[38;5;241m*\u001b[39m \u001b[38;5;241m5\u001b[39m\n",
      "\u001b[1;31mNameError\u001b[0m: name 'vectpr' is not defined"
     ]
    }
   ],
   "source": [
    "vector = np.arange(start = 2, stop = 9)\n",
    "print (vector)\n",
    "\n"
   ]
  },
  {
   "cell_type": "code",
   "execution_count": 79,
   "metadata": {},
   "outputs": [
    {
     "name": "stdout",
     "output_type": "stream",
     "text": [
      "[1, 2, 3, 0, 0, 0, 0, 0, 0, 0, 0, 0, 0, 0, 0, 0]\n",
      "<class 'list'>\n",
      "[1 2 3 0 0 0 0 0 0 0 0 0 0 0 0 0 0]\n",
      "[1 0 1 0 0 0 0 0 0 0 0 0 0 0 0 0 0 0]\n"
     ]
    }
   ],
   "source": [
    "print(lista_prueba)\n",
    "print (type(lista_prueba))\n",
    "lista_prueba.append(0)\n",
    "array_prueba = np.array(lista_prueba)\n",
    "print (array_prueba)\n",
    "type(array_prueba)\n",
    "array_prueba = np.append(array_prueba, 0)\n",
    "print(array_prueba % 2 )\n"
   ]
  },
  {
   "cell_type": "code",
   "execution_count": 66,
   "metadata": {},
   "outputs": [
    {
     "name": "stdout",
     "output_type": "stream",
     "text": [
      "LISTA_TIPO\t arr1d\t arr2d\t array_prueba\t contador\t entero\t es_primo\t lista_2\t lista_prueba\t \n",
      "media\t np\t numeros_primos\t palabra\t suma_total\t transpuesta\t vector\t \n"
     ]
    }
   ],
   "source": [
    "%who"
   ]
  },
  {
   "cell_type": "code",
   "execution_count": 82,
   "metadata": {},
   "outputs": [
    {
     "name": "stdout",
     "output_type": "stream",
     "text": [
      "None\n"
     ]
    }
   ],
   "source": [
    "def funcion_none():\n",
    "    return None\n",
    "\n",
    "print (funcion_none())"
   ]
  },
  {
   "cell_type": "code",
   "execution_count": 94,
   "metadata": {},
   "outputs": [
    {
     "data": {
      "text/plain": [
       "array([ 0, 10])"
      ]
     },
     "execution_count": 94,
     "metadata": {},
     "output_type": "execute_result"
    }
   ],
   "source": [
    "array = np.arange(0,20).reshape(2,10)\n",
    "mask = (((array % 2) == 0) & ((array % 5) == 0))\n",
    "array[mask]"
   ]
  }
 ],
 "metadata": {
  "kernelspec": {
   "display_name": "Python 3",
   "language": "python",
   "name": "python3"
  },
  "language_info": {
   "codemirror_mode": {
    "name": "ipython",
    "version": 3
   },
   "file_extension": ".py",
   "mimetype": "text/x-python",
   "name": "python",
   "nbconvert_exporter": "python",
   "pygments_lexer": "ipython3",
   "version": "3.11.8"
  }
 },
 "nbformat": 4,
 "nbformat_minor": 2
}
